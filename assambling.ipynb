{
 "cells": [
  {
   "cell_type": "markdown",
   "metadata": {},
   "source": [
    "# Домашнее задание по теме «Ансамблирование»\n",
    "## Задание\n",
    "Преподаватель: Даниил Корбут, Наталья Баданина, Анастасия Успенская\n",
    "    \n",
    "Теперь решаем задачу регрессии - предскажем цены на недвижимость. Использовать датасет www.kaggle.com...iques/data (train.csv)\n",
    "\n",
    "Построить случайный лес, вывести важность признаков\n",
    "\n",
    "Обучить стекинг как минимум 3х моделей, использовать хотя бы 1 линейную модель и 1 нелинейную\n",
    "\n",
    "В качестве решения: Jupyter notebook с кодом, комментариями и графиками"
   ]
  },
  {
   "cell_type": "code",
   "execution_count": null,
   "metadata": {},
   "outputs": [],
   "source": [
    "import matplotlib.pyplot as plt\n",
    "import pandas as pd\n",
    "import numpy as np\n",
    "from sklearn.metrics import auc, roc_curve, roc_auc_score\n",
    "%matplotlib inline"
   ]
  },
  {
   "cell_type": "code",
   "execution_count": 31,
   "metadata": {},
   "outputs": [
    {
     "data": {
      "text/html": [
       "<div>\n",
       "<style scoped>\n",
       "    .dataframe tbody tr th:only-of-type {\n",
       "        vertical-align: middle;\n",
       "    }\n",
       "\n",
       "    .dataframe tbody tr th {\n",
       "        vertical-align: top;\n",
       "    }\n",
       "\n",
       "    .dataframe thead th {\n",
       "        text-align: right;\n",
       "    }\n",
       "</style>\n",
       "<table border=\"1\" class=\"dataframe\">\n",
       "  <thead>\n",
       "    <tr style=\"text-align: right;\">\n",
       "      <th></th>\n",
       "      <th>ID</th>\n",
       "      <th>target</th>\n",
       "      <th>v1</th>\n",
       "      <th>v2</th>\n",
       "      <th>v3</th>\n",
       "      <th>v4</th>\n",
       "      <th>v5</th>\n",
       "      <th>v6</th>\n",
       "      <th>v7</th>\n",
       "      <th>v8</th>\n",
       "      <th>...</th>\n",
       "      <th>v122</th>\n",
       "      <th>v123</th>\n",
       "      <th>v124</th>\n",
       "      <th>v125</th>\n",
       "      <th>v126</th>\n",
       "      <th>v127</th>\n",
       "      <th>v128</th>\n",
       "      <th>v129</th>\n",
       "      <th>v130</th>\n",
       "      <th>v131</th>\n",
       "    </tr>\n",
       "  </thead>\n",
       "  <tbody>\n",
       "    <tr>\n",
       "      <th>0</th>\n",
       "      <td>3</td>\n",
       "      <td>1</td>\n",
       "      <td>1.335739</td>\n",
       "      <td>8.727474</td>\n",
       "      <td>C</td>\n",
       "      <td>3.921026</td>\n",
       "      <td>7.915266</td>\n",
       "      <td>2.599278</td>\n",
       "      <td>3.176895</td>\n",
       "      <td>0.012941</td>\n",
       "      <td>...</td>\n",
       "      <td>8.000000</td>\n",
       "      <td>1.989780</td>\n",
       "      <td>0.035754</td>\n",
       "      <td>AU</td>\n",
       "      <td>1.804126</td>\n",
       "      <td>3.113719</td>\n",
       "      <td>2.024285</td>\n",
       "      <td>0</td>\n",
       "      <td>0.636365</td>\n",
       "      <td>2.857144</td>\n",
       "    </tr>\n",
       "    <tr>\n",
       "      <th>1</th>\n",
       "      <td>4</td>\n",
       "      <td>1</td>\n",
       "      <td>NaN</td>\n",
       "      <td>NaN</td>\n",
       "      <td>C</td>\n",
       "      <td>NaN</td>\n",
       "      <td>9.191265</td>\n",
       "      <td>NaN</td>\n",
       "      <td>NaN</td>\n",
       "      <td>2.301630</td>\n",
       "      <td>...</td>\n",
       "      <td>NaN</td>\n",
       "      <td>NaN</td>\n",
       "      <td>0.598896</td>\n",
       "      <td>AF</td>\n",
       "      <td>NaN</td>\n",
       "      <td>NaN</td>\n",
       "      <td>1.957825</td>\n",
       "      <td>0</td>\n",
       "      <td>NaN</td>\n",
       "      <td>NaN</td>\n",
       "    </tr>\n",
       "    <tr>\n",
       "      <th>2</th>\n",
       "      <td>5</td>\n",
       "      <td>1</td>\n",
       "      <td>0.943877</td>\n",
       "      <td>5.310079</td>\n",
       "      <td>C</td>\n",
       "      <td>4.410969</td>\n",
       "      <td>5.326159</td>\n",
       "      <td>3.979592</td>\n",
       "      <td>3.928571</td>\n",
       "      <td>0.019645</td>\n",
       "      <td>...</td>\n",
       "      <td>9.333333</td>\n",
       "      <td>2.477596</td>\n",
       "      <td>0.013452</td>\n",
       "      <td>AE</td>\n",
       "      <td>1.773709</td>\n",
       "      <td>3.922193</td>\n",
       "      <td>1.120468</td>\n",
       "      <td>2</td>\n",
       "      <td>0.883118</td>\n",
       "      <td>1.176472</td>\n",
       "    </tr>\n",
       "    <tr>\n",
       "      <th>3</th>\n",
       "      <td>6</td>\n",
       "      <td>1</td>\n",
       "      <td>0.797415</td>\n",
       "      <td>8.304757</td>\n",
       "      <td>C</td>\n",
       "      <td>4.225930</td>\n",
       "      <td>11.627438</td>\n",
       "      <td>2.097700</td>\n",
       "      <td>1.987549</td>\n",
       "      <td>0.171947</td>\n",
       "      <td>...</td>\n",
       "      <td>7.018256</td>\n",
       "      <td>1.812795</td>\n",
       "      <td>0.002267</td>\n",
       "      <td>CJ</td>\n",
       "      <td>1.415230</td>\n",
       "      <td>2.954381</td>\n",
       "      <td>1.990847</td>\n",
       "      <td>1</td>\n",
       "      <td>1.677108</td>\n",
       "      <td>1.034483</td>\n",
       "    </tr>\n",
       "    <tr>\n",
       "      <th>4</th>\n",
       "      <td>8</td>\n",
       "      <td>1</td>\n",
       "      <td>NaN</td>\n",
       "      <td>NaN</td>\n",
       "      <td>C</td>\n",
       "      <td>NaN</td>\n",
       "      <td>NaN</td>\n",
       "      <td>NaN</td>\n",
       "      <td>NaN</td>\n",
       "      <td>NaN</td>\n",
       "      <td>...</td>\n",
       "      <td>NaN</td>\n",
       "      <td>NaN</td>\n",
       "      <td>NaN</td>\n",
       "      <td>Z</td>\n",
       "      <td>NaN</td>\n",
       "      <td>NaN</td>\n",
       "      <td>NaN</td>\n",
       "      <td>0</td>\n",
       "      <td>NaN</td>\n",
       "      <td>NaN</td>\n",
       "    </tr>\n",
       "  </tbody>\n",
       "</table>\n",
       "<p>5 rows × 133 columns</p>\n",
       "</div>"
      ],
      "text/plain": [
       "   ID  target        v1        v2 v3        v4         v5        v6        v7  \\\n",
       "0   3       1  1.335739  8.727474  C  3.921026   7.915266  2.599278  3.176895   \n",
       "1   4       1       NaN       NaN  C       NaN   9.191265       NaN       NaN   \n",
       "2   5       1  0.943877  5.310079  C  4.410969   5.326159  3.979592  3.928571   \n",
       "3   6       1  0.797415  8.304757  C  4.225930  11.627438  2.097700  1.987549   \n",
       "4   8       1       NaN       NaN  C       NaN        NaN       NaN       NaN   \n",
       "\n",
       "         v8  ...      v122      v123      v124  v125      v126      v127  \\\n",
       "0  0.012941  ...  8.000000  1.989780  0.035754    AU  1.804126  3.113719   \n",
       "1  2.301630  ...       NaN       NaN  0.598896    AF       NaN       NaN   \n",
       "2  0.019645  ...  9.333333  2.477596  0.013452    AE  1.773709  3.922193   \n",
       "3  0.171947  ...  7.018256  1.812795  0.002267    CJ  1.415230  2.954381   \n",
       "4       NaN  ...       NaN       NaN       NaN     Z       NaN       NaN   \n",
       "\n",
       "       v128  v129      v130      v131  \n",
       "0  2.024285     0  0.636365  2.857144  \n",
       "1  1.957825     0       NaN       NaN  \n",
       "2  1.120468     2  0.883118  1.176472  \n",
       "3  1.990847     1  1.677108  1.034483  \n",
       "4       NaN     0       NaN       NaN  \n",
       "\n",
       "[5 rows x 133 columns]"
      ]
     },
     "execution_count": 31,
     "metadata": {},
     "output_type": "execute_result"
    }
   ],
   "source": [
    "data = pd.read_csv('train.csv', delimiter=',')\n",
    "data.head(5)"
   ]
  },
  {
   "cell_type": "code",
   "execution_count": 32,
   "metadata": {},
   "outputs": [
    {
     "name": "stdout",
     "output_type": "stream",
     "text": [
      "<class 'pandas.core.frame.DataFrame'>\n",
      "RangeIndex: 114321 entries, 0 to 114320\n",
      "Columns: 133 entries, ID to v131\n",
      "dtypes: float64(108), int64(6), object(19)\n",
      "memory usage: 116.0+ MB\n"
     ]
    }
   ],
   "source": [
    "data.info()"
   ]
  },
  {
   "cell_type": "code",
   "execution_count": 33,
   "metadata": {},
   "outputs": [
    {
     "data": {
      "text/html": [
       "<div>\n",
       "<style scoped>\n",
       "    .dataframe tbody tr th:only-of-type {\n",
       "        vertical-align: middle;\n",
       "    }\n",
       "\n",
       "    .dataframe tbody tr th {\n",
       "        vertical-align: top;\n",
       "    }\n",
       "\n",
       "    .dataframe thead th {\n",
       "        text-align: right;\n",
       "    }\n",
       "</style>\n",
       "<table border=\"1\" class=\"dataframe\">\n",
       "  <thead>\n",
       "    <tr style=\"text-align: right;\">\n",
       "      <th></th>\n",
       "      <th>ID</th>\n",
       "      <th>target</th>\n",
       "      <th>v1</th>\n",
       "      <th>v2</th>\n",
       "      <th>v4</th>\n",
       "      <th>v5</th>\n",
       "      <th>v6</th>\n",
       "      <th>v7</th>\n",
       "      <th>v8</th>\n",
       "      <th>v9</th>\n",
       "      <th>...</th>\n",
       "      <th>v121</th>\n",
       "      <th>v122</th>\n",
       "      <th>v123</th>\n",
       "      <th>v124</th>\n",
       "      <th>v126</th>\n",
       "      <th>v127</th>\n",
       "      <th>v128</th>\n",
       "      <th>v129</th>\n",
       "      <th>v130</th>\n",
       "      <th>v131</th>\n",
       "    </tr>\n",
       "  </thead>\n",
       "  <tbody>\n",
       "    <tr>\n",
       "      <th>count</th>\n",
       "      <td>114321.000000</td>\n",
       "      <td>114321.000000</td>\n",
       "      <td>6.448900e+04</td>\n",
       "      <td>6.452500e+04</td>\n",
       "      <td>6.452500e+04</td>\n",
       "      <td>6.569700e+04</td>\n",
       "      <td>6.448900e+04</td>\n",
       "      <td>6.448900e+04</td>\n",
       "      <td>6.570200e+04</td>\n",
       "      <td>6.447000e+04</td>\n",
       "      <td>...</td>\n",
       "      <td>6.448100e+04</td>\n",
       "      <td>6.447000e+04</td>\n",
       "      <td>63643.000000</td>\n",
       "      <td>6.570200e+04</td>\n",
       "      <td>6.448900e+04</td>\n",
       "      <td>6.448900e+04</td>\n",
       "      <td>6.569700e+04</td>\n",
       "      <td>114321.000000</td>\n",
       "      <td>6.447800e+04</td>\n",
       "      <td>6.442600e+04</td>\n",
       "    </tr>\n",
       "    <tr>\n",
       "      <th>mean</th>\n",
       "      <td>114228.928228</td>\n",
       "      <td>0.761199</td>\n",
       "      <td>1.630686e+00</td>\n",
       "      <td>7.464411e+00</td>\n",
       "      <td>4.145098e+00</td>\n",
       "      <td>8.742359e+00</td>\n",
       "      <td>2.436402e+00</td>\n",
       "      <td>2.483921e+00</td>\n",
       "      <td>1.496569e+00</td>\n",
       "      <td>9.031859e+00</td>\n",
       "      <td>...</td>\n",
       "      <td>2.737596e+00</td>\n",
       "      <td>6.822439e+00</td>\n",
       "      <td>3.549938</td>\n",
       "      <td>9.198120e-01</td>\n",
       "      <td>1.672658e+00</td>\n",
       "      <td>3.239542e+00</td>\n",
       "      <td>2.030373e+00</td>\n",
       "      <td>0.310144</td>\n",
       "      <td>1.925763e+00</td>\n",
       "      <td>1.739389e+00</td>\n",
       "    </tr>\n",
       "    <tr>\n",
       "      <th>std</th>\n",
       "      <td>65934.487362</td>\n",
       "      <td>0.426353</td>\n",
       "      <td>1.082813e+00</td>\n",
       "      <td>2.961676e+00</td>\n",
       "      <td>1.148263e+00</td>\n",
       "      <td>2.036018e+00</td>\n",
       "      <td>5.999653e-01</td>\n",
       "      <td>5.894485e-01</td>\n",
       "      <td>2.783003e+00</td>\n",
       "      <td>1.930262e+00</td>\n",
       "      <td>...</td>\n",
       "      <td>1.356294e+00</td>\n",
       "      <td>1.795978e+00</td>\n",
       "      <td>2.604704</td>\n",
       "      <td>2.099407e+00</td>\n",
       "      <td>5.031683e-01</td>\n",
       "      <td>1.625988e+00</td>\n",
       "      <td>1.074232e+00</td>\n",
       "      <td>0.693262</td>\n",
       "      <td>1.264497e+00</td>\n",
       "      <td>1.134702e+00</td>\n",
       "    </tr>\n",
       "    <tr>\n",
       "      <th>min</th>\n",
       "      <td>3.000000</td>\n",
       "      <td>0.000000</td>\n",
       "      <td>-9.996497e-07</td>\n",
       "      <td>-9.817614e-07</td>\n",
       "      <td>-6.475929e-07</td>\n",
       "      <td>-5.287068e-07</td>\n",
       "      <td>-9.055091e-07</td>\n",
       "      <td>-9.468765e-07</td>\n",
       "      <td>-7.783778e-07</td>\n",
       "      <td>-9.828757e-07</td>\n",
       "      <td>...</td>\n",
       "      <td>-9.820642e-07</td>\n",
       "      <td>-9.978497e-07</td>\n",
       "      <td>0.019139</td>\n",
       "      <td>-9.994953e-07</td>\n",
       "      <td>-9.564174e-07</td>\n",
       "      <td>-9.223798e-07</td>\n",
       "      <td>8.197812e-07</td>\n",
       "      <td>0.000000</td>\n",
       "      <td>-9.901257e-07</td>\n",
       "      <td>-9.999134e-07</td>\n",
       "    </tr>\n",
       "    <tr>\n",
       "      <th>25%</th>\n",
       "      <td>57280.000000</td>\n",
       "      <td>1.000000</td>\n",
       "      <td>9.135798e-01</td>\n",
       "      <td>5.316428e+00</td>\n",
       "      <td>3.487398e+00</td>\n",
       "      <td>7.605918e+00</td>\n",
       "      <td>2.065064e+00</td>\n",
       "      <td>2.101477e+00</td>\n",
       "      <td>8.658986e-02</td>\n",
       "      <td>7.853659e+00</td>\n",
       "      <td>...</td>\n",
       "      <td>1.786965e+00</td>\n",
       "      <td>5.647712e+00</td>\n",
       "      <td>1.963315</td>\n",
       "      <td>2.053777e-02</td>\n",
       "      <td>1.417600e+00</td>\n",
       "      <td>2.101900e+00</td>\n",
       "      <td>1.393830e+00</td>\n",
       "      <td>0.000000</td>\n",
       "      <td>1.106172e+00</td>\n",
       "      <td>1.012658e+00</td>\n",
       "    </tr>\n",
       "    <tr>\n",
       "      <th>50%</th>\n",
       "      <td>114189.000000</td>\n",
       "      <td>1.000000</td>\n",
       "      <td>1.469550e+00</td>\n",
       "      <td>7.023803e+00</td>\n",
       "      <td>4.205991e+00</td>\n",
       "      <td>8.670867e+00</td>\n",
       "      <td>2.412790e+00</td>\n",
       "      <td>2.452166e+00</td>\n",
       "      <td>3.860317e-01</td>\n",
       "      <td>9.059582e+00</td>\n",
       "      <td>...</td>\n",
       "      <td>2.436195e+00</td>\n",
       "      <td>6.749117e+00</td>\n",
       "      <td>2.739239</td>\n",
       "      <td>1.398639e-01</td>\n",
       "      <td>1.614802e+00</td>\n",
       "      <td>2.963620e+00</td>\n",
       "      <td>1.798436e+00</td>\n",
       "      <td>0.000000</td>\n",
       "      <td>1.560138e+00</td>\n",
       "      <td>1.589403e+00</td>\n",
       "    </tr>\n",
       "    <tr>\n",
       "      <th>75%</th>\n",
       "      <td>171206.000000</td>\n",
       "      <td>1.000000</td>\n",
       "      <td>2.136128e+00</td>\n",
       "      <td>9.465497e+00</td>\n",
       "      <td>4.833250e+00</td>\n",
       "      <td>9.771353e+00</td>\n",
       "      <td>2.775285e+00</td>\n",
       "      <td>2.834285e+00</td>\n",
       "      <td>1.625246e+00</td>\n",
       "      <td>1.023256e+01</td>\n",
       "      <td>...</td>\n",
       "      <td>3.379175e+00</td>\n",
       "      <td>7.911392e+00</td>\n",
       "      <td>4.075361</td>\n",
       "      <td>8.718333e-01</td>\n",
       "      <td>1.843886e+00</td>\n",
       "      <td>4.108146e+00</td>\n",
       "      <td>2.390158e+00</td>\n",
       "      <td>0.000000</td>\n",
       "      <td>2.332425e+00</td>\n",
       "      <td>2.261905e+00</td>\n",
       "    </tr>\n",
       "    <tr>\n",
       "      <th>max</th>\n",
       "      <td>228713.000000</td>\n",
       "      <td>1.000000</td>\n",
       "      <td>2.000000e+01</td>\n",
       "      <td>2.000000e+01</td>\n",
       "      <td>2.000000e+01</td>\n",
       "      <td>2.000000e+01</td>\n",
       "      <td>2.000000e+01</td>\n",
       "      <td>2.000000e+01</td>\n",
       "      <td>2.000000e+01</td>\n",
       "      <td>2.000000e+01</td>\n",
       "      <td>...</td>\n",
       "      <td>2.000000e+01</td>\n",
       "      <td>2.000000e+01</td>\n",
       "      <td>19.686069</td>\n",
       "      <td>2.000000e+01</td>\n",
       "      <td>1.563161e+01</td>\n",
       "      <td>2.000000e+01</td>\n",
       "      <td>2.000000e+01</td>\n",
       "      <td>11.000000</td>\n",
       "      <td>2.000000e+01</td>\n",
       "      <td>2.000000e+01</td>\n",
       "    </tr>\n",
       "  </tbody>\n",
       "</table>\n",
       "<p>8 rows × 114 columns</p>\n",
       "</div>"
      ],
      "text/plain": [
       "                  ID         target            v1            v2            v4  \\\n",
       "count  114321.000000  114321.000000  6.448900e+04  6.452500e+04  6.452500e+04   \n",
       "mean   114228.928228       0.761199  1.630686e+00  7.464411e+00  4.145098e+00   \n",
       "std     65934.487362       0.426353  1.082813e+00  2.961676e+00  1.148263e+00   \n",
       "min         3.000000       0.000000 -9.996497e-07 -9.817614e-07 -6.475929e-07   \n",
       "25%     57280.000000       1.000000  9.135798e-01  5.316428e+00  3.487398e+00   \n",
       "50%    114189.000000       1.000000  1.469550e+00  7.023803e+00  4.205991e+00   \n",
       "75%    171206.000000       1.000000  2.136128e+00  9.465497e+00  4.833250e+00   \n",
       "max    228713.000000       1.000000  2.000000e+01  2.000000e+01  2.000000e+01   \n",
       "\n",
       "                 v5            v6            v7            v8            v9  \\\n",
       "count  6.569700e+04  6.448900e+04  6.448900e+04  6.570200e+04  6.447000e+04   \n",
       "mean   8.742359e+00  2.436402e+00  2.483921e+00  1.496569e+00  9.031859e+00   \n",
       "std    2.036018e+00  5.999653e-01  5.894485e-01  2.783003e+00  1.930262e+00   \n",
       "min   -5.287068e-07 -9.055091e-07 -9.468765e-07 -7.783778e-07 -9.828757e-07   \n",
       "25%    7.605918e+00  2.065064e+00  2.101477e+00  8.658986e-02  7.853659e+00   \n",
       "50%    8.670867e+00  2.412790e+00  2.452166e+00  3.860317e-01  9.059582e+00   \n",
       "75%    9.771353e+00  2.775285e+00  2.834285e+00  1.625246e+00  1.023256e+01   \n",
       "max    2.000000e+01  2.000000e+01  2.000000e+01  2.000000e+01  2.000000e+01   \n",
       "\n",
       "       ...          v121          v122          v123          v124  \\\n",
       "count  ...  6.448100e+04  6.447000e+04  63643.000000  6.570200e+04   \n",
       "mean   ...  2.737596e+00  6.822439e+00      3.549938  9.198120e-01   \n",
       "std    ...  1.356294e+00  1.795978e+00      2.604704  2.099407e+00   \n",
       "min    ... -9.820642e-07 -9.978497e-07      0.019139 -9.994953e-07   \n",
       "25%    ...  1.786965e+00  5.647712e+00      1.963315  2.053777e-02   \n",
       "50%    ...  2.436195e+00  6.749117e+00      2.739239  1.398639e-01   \n",
       "75%    ...  3.379175e+00  7.911392e+00      4.075361  8.718333e-01   \n",
       "max    ...  2.000000e+01  2.000000e+01     19.686069  2.000000e+01   \n",
       "\n",
       "               v126          v127          v128           v129          v130  \\\n",
       "count  6.448900e+04  6.448900e+04  6.569700e+04  114321.000000  6.447800e+04   \n",
       "mean   1.672658e+00  3.239542e+00  2.030373e+00       0.310144  1.925763e+00   \n",
       "std    5.031683e-01  1.625988e+00  1.074232e+00       0.693262  1.264497e+00   \n",
       "min   -9.564174e-07 -9.223798e-07  8.197812e-07       0.000000 -9.901257e-07   \n",
       "25%    1.417600e+00  2.101900e+00  1.393830e+00       0.000000  1.106172e+00   \n",
       "50%    1.614802e+00  2.963620e+00  1.798436e+00       0.000000  1.560138e+00   \n",
       "75%    1.843886e+00  4.108146e+00  2.390158e+00       0.000000  2.332425e+00   \n",
       "max    1.563161e+01  2.000000e+01  2.000000e+01      11.000000  2.000000e+01   \n",
       "\n",
       "               v131  \n",
       "count  6.442600e+04  \n",
       "mean   1.739389e+00  \n",
       "std    1.134702e+00  \n",
       "min   -9.999134e-07  \n",
       "25%    1.012658e+00  \n",
       "50%    1.589403e+00  \n",
       "75%    2.261905e+00  \n",
       "max    2.000000e+01  \n",
       "\n",
       "[8 rows x 114 columns]"
      ]
     },
     "execution_count": 33,
     "metadata": {},
     "output_type": "execute_result"
    }
   ],
   "source": [
    "data.describe()"
   ]
  },
  {
   "cell_type": "code",
   "execution_count": 34,
   "metadata": {},
   "outputs": [
    {
     "data": {
      "text/plain": [
       "ID            0\n",
       "target        0\n",
       "v1        49832\n",
       "v2        49796\n",
       "v3         3457\n",
       "          ...  \n",
       "v127      49832\n",
       "v128      48624\n",
       "v129          0\n",
       "v130      49843\n",
       "v131      49895\n",
       "Length: 133, dtype: int64"
      ]
     },
     "execution_count": 34,
     "metadata": {},
     "output_type": "execute_result"
    }
   ],
   "source": [
    "data.isnull().sum()"
   ]
  },
  {
   "cell_type": "code",
   "execution_count": 35,
   "metadata": {},
   "outputs": [],
   "source": [
    "# Разбиваем на train/test\n",
    "from sklearn.model_selection import StratifiedShuffleSplit\n",
    "splitter = StratifiedShuffleSplit(n_splits=1, test_size=0.3, random_state=777)\n",
    "\n",
    "for train_index, test_index in splitter.split(data, data.target):\n",
    "    d_train = data.iloc[train_index]\n",
    "    d_test = data.iloc[test_index]\n",
    "    \n",
    "    y_train = data['target'].iloc[train_index]\n",
    "    y_test = data['target'].iloc[test_index]"
   ]
  },
  {
   "cell_type": "code",
   "execution_count": 36,
   "metadata": {},
   "outputs": [
    {
     "name": "stdout",
     "output_type": "stream",
     "text": [
      "v3          3\n",
      "v22     15749\n",
      "v24         5\n",
      "v30         7\n",
      "v31         3\n",
      "v47        10\n",
      "v52        12\n",
      "v56       120\n",
      "v66         3\n",
      "v71         8\n",
      "v74         3\n",
      "v75         4\n",
      "v79        18\n",
      "v91         7\n",
      "v107        7\n",
      "v110        3\n",
      "v112       22\n",
      "v113       36\n",
      "v125       90\n",
      "dtype: int64\n"
     ]
    }
   ],
   "source": [
    "#Находим категориальные признаки\n",
    "cat_feat = list(data.dtypes[data.dtypes == object].index)\n",
    "\n",
    "#закодируем пропущенные значений строкой, факт пропущенного значения тоже может нести в себе информацию\n",
    "data[cat_feat] = data[cat_feat].fillna('nan')\n",
    "\n",
    "#отфильтруем непрерывные признаки\n",
    "num_feat = [f for f in data if f not in (cat_feat + ['ID', 'target'])]\n",
    "\n",
    "# Смотрим сколько у нас значений по каждому категориальному признаку\n",
    "cat_nunique = d_train[cat_feat].nunique()\n",
    "print(cat_nunique)\n",
    "\n",
    "#Чтобы в разы не увеличивать число признаков при построении dummy,\n",
    "#будем использовать категориальные признаки с < 30 уникальных значений\n",
    "cat_feat = list(cat_nunique[cat_nunique < 30].index)"
   ]
  },
  {
   "cell_type": "code",
   "execution_count": 37,
   "metadata": {},
   "outputs": [],
   "source": [
    "# Создаем дамми-переменные для категорий\n",
    "dummy_train = pd.get_dummies(d_train[cat_feat], columns=cat_feat)\n",
    "dummy_test = pd.get_dummies(d_test[cat_feat], columns=cat_feat)\n",
    "\n",
    "dummy_cols = list(set(dummy_train) & set(dummy_test))\n",
    "\n",
    "dummy_train = dummy_train[dummy_cols]\n",
    "dummy_test = dummy_test[dummy_cols]\n",
    "\n",
    "\n",
    "# Заменяем пропуски на специальное значение -999, чтобы деревья могли их отличить\n",
    "X_train = pd.concat([d_train[num_feat].fillna(-999),\n",
    "                     dummy_train], axis=1)\n",
    "\n",
    "X_test = pd.concat([d_test[num_feat].fillna(-999),\n",
    "                     dummy_test], axis=1)"
   ]
  },
  {
   "cell_type": "markdown",
   "metadata": {},
   "source": [
    "### Построить случайный лес, вывести важность признаков"
   ]
  },
  {
   "cell_type": "code",
   "execution_count": 38,
   "metadata": {},
   "outputs": [],
   "source": [
    "from sklearn.ensemble import RandomForestRegressor"
   ]
  },
  {
   "cell_type": "code",
   "execution_count": 39,
   "metadata": {},
   "outputs": [
    {
     "data": {
      "text/plain": [
       "RandomForestRegressor(max_depth=2, random_state=0)"
      ]
     },
     "execution_count": 39,
     "metadata": {},
     "output_type": "execute_result"
    }
   ],
   "source": [
    "regr = RandomForestRegressor(max_depth=2, random_state=0)\n",
    "regr.fit(X_train, y_train)"
   ]
  },
  {
   "cell_type": "code",
   "execution_count": 40,
   "metadata": {},
   "outputs": [],
   "source": [
    "def show_auc(y, y_pred, plot_label='', prin=True):    \n",
    "    fpr, tpr, _ = roc_curve(y, y_pred)\n",
    "    auc_val = auc(fpr, tpr)\n",
    "    if prin:\n",
    "        print('ROC AUC: {0:.4f}'.format(auc_val))\n",
    "    if plot_label:\n",
    "        plt.plot(fpr, tpr, label=plot_label)\n",
    "        plt.xlabel('FPR')\n",
    "        plt.ylabel('TPR')\n",
    "    return auc_val"
   ]
  },
  {
   "cell_type": "code",
   "execution_count": 42,
   "metadata": {},
   "outputs": [
    {
     "name": "stdout",
     "output_type": "stream",
     "text": [
      "Train:\n",
      "ROC AUC: 0.6990\n",
      "Test:\n",
      "ROC AUC: 0.6934\n"
     ]
    },
    {
     "data": {
      "text/plain": [
       "0.693369358177647"
      ]
     },
     "execution_count": 42,
     "metadata": {},
     "output_type": "execute_result"
    },
    {
     "data": {
      "image/png": "[encoded data removed]",
      "text/plain": [
       "<Figure size 432x288 with 1 Axes>"
      ]
     },
     "metadata": {
      "needs_background": "light"
     },
     "output_type": "display_data"
    }
   ],
   "source": [
    "y_pred_test = regr.predict(X_test)\n",
    "y_pred_train = regr.predict(X_train)\n",
    "\n",
    "print('Train:')\n",
    "show_auc(y_train, y_pred_train, 'train')\n",
    "         \n",
    "print('Test:')\n",
    "show_auc(y_test, y_pred_test, 'test')"
   ]
  },
  {
   "cell_type": "code",
   "execution_count": 43,
   "metadata": {},
   "outputs": [
    {
     "data": {
      "text/plain": [
       "43     0.840212\n",
       "175    0.141507\n",
       "176    0.008809\n",
       "114    0.008075\n",
       "221    0.001398\n",
       "         ...   \n",
       "143    0.000000\n",
       "142    0.000000\n",
       "141    0.000000\n",
       "140    0.000000\n",
       "0      0.000000\n",
       "Length: 222, dtype: float64"
      ]
     },
     "execution_count": 43,
     "metadata": {},
     "output_type": "execute_result"
    }
   ],
   "source": [
    "imp = pd.Series(regr.feature_importances_)\n",
    "imp.sort_values(ascending=False)"
   ]
  },
  {
   "cell_type": "markdown",
   "metadata": {},
   "source": [
    "### Обучить стекинг как минимум 3х моделей, использовать хотя бы 1 линейную модель и 1 нелинейную"
   ]
  },
  {
   "cell_type": "code",
   "execution_count": 49,
   "metadata": {},
   "outputs": [],
   "source": [
    "from sklearn.neighbors import KNeighborsRegressor\n",
    "from sklearn.ensemble import StackingRegressor\n",
    "from sklearn.linear_model import Ridge\n",
    "from sklearn.tree import DecisionTreeRegressor"
   ]
  },
  {
   "cell_type": "code",
   "execution_count": 51,
   "metadata": {},
   "outputs": [],
   "source": [
    "regressor = StackingRegressor(\n",
    "    [\n",
    "        ('knn', KNeighborsRegressor()),\n",
    "        ('ridge', Ridge())\n",
    "    ],\n",
    "DecisionTreeRegressor())"
   ]
  },
  {
   "cell_type": "code",
   "execution_count": 52,
   "metadata": {},
   "outputs": [
    {
     "data": {
      "text/plain": [
       "StackingRegressor(estimators=[('knn', KNeighborsRegressor()),\n",
       "                              ('ridge', Ridge())],\n",
       "                  final_estimator=DecisionTreeRegressor())"
      ]
     },
     "execution_count": 52,
     "metadata": {},
     "output_type": "execute_result"
    }
   ],
   "source": [
    "regressor.fit(X_train, y_train)"
   ]
  },
  {
   "cell_type": "code",
   "execution_count": 53,
   "metadata": {},
   "outputs": [
    {
     "data": {
      "text/plain": [
       "KNeighborsRegressor()"
      ]
     },
     "execution_count": 53,
     "metadata": {},
     "output_type": "execute_result"
    }
   ],
   "source": [
    "regressor.named_estimators_['knn']"
   ]
  },
  {
   "cell_type": "code",
   "execution_count": 54,
   "metadata": {},
   "outputs": [],
   "source": [
    "y_pred_knn = regressor.named_estimators_['knn'].predict(X_test)"
   ]
  },
  {
   "cell_type": "code",
   "execution_count": 55,
   "metadata": {},
   "outputs": [],
   "source": [
    "y_pred_ridge = regressor.named_estimators_['ridge'].predict(X_test)"
   ]
  },
  {
   "cell_type": "code",
   "execution_count": 56,
   "metadata": {},
   "outputs": [],
   "source": [
    "y_pred = regressor.predict(X_test)"
   ]
  },
  {
   "cell_type": "code",
   "execution_count": 57,
   "metadata": {},
   "outputs": [
    {
     "name": "stdout",
     "output_type": "stream",
     "text": [
      "knn\n",
      "ROC AUC: 0.6078\n",
      "ridge\n",
      "ROC AUC: 0.7130\n",
      "STACK\n",
      "ROC AUC: 0.5519\n"
     ]
    },
    {
     "data": {
      "image/png": "[encoded data removed]",
      "text/plain": [
       "<Figure size 432x288 with 1 Axes>"
      ]
     },
     "metadata": {
      "needs_background": "light"
     },
     "output_type": "display_data"
    }
   ],
   "source": [
    "print(\"knn\")\n",
    "show_auc(y_test, y_pred_knn, 'knn')\n",
    "print(\"ridge\")\n",
    "show_auc(y_test, y_pred_ridge, 'ridge')\n",
    "print(\"STACK\")\n",
    "show_auc(y_test, y_pred, 'STACK')\n",
    "plt.legend()\n",
    "plt.show()"
   ]
  },
  {
   "cell_type": "code",
   "execution_count": null,
   "metadata": {},
   "outputs": [],
   "source": []
  }
 ],
 "metadata": {
  "kernelspec": {
   "display_name": "Python 3",
   "language": "python",
   "name": "python3"
  },
  "language_info": {
   "codemirror_mode": {
    "name": "ipython",
    "version": 3
   },
   "file_extension": ".py",
   "mimetype": "text/x-python",
   "name": "python",
   "nbconvert_exporter": "python",
   "pygments_lexer": "ipython3",
   "version": "3.8.5"
  }
 },
 "nbformat": 4,
 "nbformat_minor": 4
}
