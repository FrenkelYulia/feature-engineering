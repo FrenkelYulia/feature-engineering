{
 "cells": [
  {
   "cell_type": "markdown",
   "metadata": {},
   "source": [
    "# Домашняя работа \"Оценка точности модели, переобучение, регуляризация\"\n",
    "\n",
    "Домашнее задание\n",
    "Прочитать про методы оптимизации для нейронных сетей https://habr.com/post/318970/\n",
    "Взять код градиентного спуска для линейной регрессии (с занятия) и обучить ее\n",
    "Методом nesterov momentum\n",
    "Методом rmsprop\n",
    "Задание со звездочкой - доработать код логистической регрессии из первого занятия и обучить ее теми же методами для задачи классификации Ирисов (взять только два цветка - Iris Versicolor и Iris Virginica)"
   ]
  },
  {
   "cell_type": "code",
   "execution_count": 1,
   "metadata": {},
   "outputs": [],
   "source": [
    "from sklearn.datasets import load_iris\n",
    "import numpy as np\n",
    "from sklearn.datasets import make_blobs\n",
    "from sklearn.model_selection import train_test_split\n",
    "from sklearn.metrics import accuracy_score\n",
    "import matplotlib.pyplot as plt\n",
    "from sklearn.linear_model import LogisticRegression\n",
    "%matplotlib inline\n"
   ]
  },
  {
   "cell_type": "code",
   "execution_count": 2,
   "metadata": {},
   "outputs": [],
   "source": [
    "X,y = load_iris(return_X_y=True)"
   ]
  },
  {
   "cell_type": "code",
   "execution_count": 3,
   "metadata": {},
   "outputs": [
    {
     "data": {
      "text/plain": [
       "(150, 4)"
      ]
     },
     "execution_count": 3,
     "metadata": {},
     "output_type": "execute_result"
    }
   ],
   "source": [
    "X.shape"
   ]
  },
  {
   "cell_type": "code",
   "execution_count": 4,
   "metadata": {},
   "outputs": [],
   "source": [
    "filter = y != 2"
   ]
  },
  {
   "cell_type": "code",
   "execution_count": 5,
   "metadata": {},
   "outputs": [],
   "source": [
    "X = X[filter]\n",
    "y = y[filter]"
   ]
  },
  {
   "cell_type": "code",
   "execution_count": 6,
   "metadata": {},
   "outputs": [
    {
     "data": {
      "text/plain": [
       "(100, 4)"
      ]
     },
     "execution_count": 6,
     "metadata": {},
     "output_type": "execute_result"
    }
   ],
   "source": [
    "X.shape"
   ]
  },
  {
   "cell_type": "code",
   "execution_count": 7,
   "metadata": {},
   "outputs": [
    {
     "data": {
      "text/plain": [
       "(100,)"
      ]
     },
     "execution_count": 7,
     "metadata": {},
     "output_type": "execute_result"
    }
   ],
   "source": [
    "y.shape"
   ]
  },
  {
   "cell_type": "markdown",
   "metadata": {},
   "source": [
    "# Логистическая регрессия"
   ]
  },
  {
   "cell_type": "code",
   "execution_count": 8,
   "metadata": {},
   "outputs": [],
   "source": [
    "COEFS = np.random.randn(5)"
   ]
  },
  {
   "cell_type": "code",
   "execution_count": 9,
   "metadata": {},
   "outputs": [],
   "source": [
    "def predict_proba(coefs, x):\n",
    "  return 1. / (1. + np.exp( -(x.dot(coefs[:4]) + coefs[-1]) ) )"
   ]
  },
  {
   "cell_type": "code",
   "execution_count": 10,
   "metadata": {},
   "outputs": [],
   "source": [
    "def predict_class(coefs, x):\n",
    "  probas = predict_proba(coefs, x)\n",
    "  return (probas > 0.5).astype(np.float)"
   ]
  },
  {
   "cell_type": "code",
   "execution_count": 11,
   "metadata": {},
   "outputs": [],
   "source": [
    "def bce_loss(coefs, x, y):\n",
    "  probas = predict_proba(coefs, x)\n",
    "  filter_ones = y == 1\n",
    "  loss = -1. * (np.sum(np.log(probas[filter_ones])) + np.sum(np.log(1. - probas[~filter_ones]))) / len(y)\n",
    "  return loss"
   ]
  },
  {
   "cell_type": "code",
   "execution_count": 12,
   "metadata": {},
   "outputs": [],
   "source": [
    "def grad(coefs, x, y):\n",
    "  probas = predict_proba(coefs, x)\n",
    "  delta = probas - y\n",
    "  modified_x = x.T * delta\n",
    "  deltas = np.mean(modified_x, axis=1)\n",
    "  return deltas, np.mean(delta)"
   ]
  },
  {
   "cell_type": "code",
   "execution_count": 13,
   "metadata": {},
   "outputs": [],
   "source": [
    "def learn_sgd(coefs, x, y, num_epochs=20, learning_rate=0.0001):\n",
    "  losses = []\n",
    "  for e in range(num_epochs):\n",
    "    grad_coefs, grad_bias = grad(coefs, x, y)\n",
    "    coefs[:-1] = coefs[:-1] - learning_rate * grad_coefs\n",
    "    coefs[-1] = coefs[-1] - learning_rate * grad_bias\n",
    "    loss = bce_loss(coefs, x, y)\n",
    "    losses.append(loss)\n",
    "  return losses, coefs"
   ]
  },
  {
   "cell_type": "code",
   "execution_count": 14,
   "metadata": {},
   "outputs": [],
   "source": [
    "losses, new_coefs = learn_sgd(COEFS, X, y, learning_rate=0.1)"
   ]
  },
  {
   "cell_type": "code",
   "execution_count": 15,
   "metadata": {},
   "outputs": [
    {
     "data": {
      "image/png": "[encoded data removed]",
      "text/plain": [
       "<Figure size 576x432 with 1 Axes>"
      ]
     },
     "metadata": {
      "needs_background": "light"
     },
     "output_type": "display_data"
    }
   ],
   "source": [
    "plt.figure(figsize=(8,6))\n",
    "plt.plot(losses)\n",
    "plt.show()"
   ]
  },
  {
   "cell_type": "markdown",
   "metadata": {},
   "source": [
    "# Nesterov Accelerated Gradient"
   ]
  },
  {
   "cell_type": "code",
   "execution_count": null,
   "metadata": {},
   "outputs": [],
   "source": [
    "def do_nesterov_accelerated_gradient_descent(coefs, x, y, num_epochs=20, learning_rate=0.0001, gamma =0.9):\n",
    " losses = []\n",
    "    for i in range(num_epochs):\n",
    "        grad_coefs, grad_bias = grad(coefs, x, y)\n",
    "        coefs[:-1] = coefs[:-1] - learning_rate * grad_coefs\n",
    "        coefs[-1] = coefs[-1] - learning_rate * grad_bias\n",
    "        loss = bce_loss(coefs, x, y)\n",
    "        losses.append(loss)\n",
    " return losses, coefs"
   ]
  },
  {
   "cell_type": "markdown",
   "metadata": {},
   "source": [
    "# Метод градиентного спуска"
   ]
  },
  {
   "cell_type": "code",
   "execution_count": null,
   "metadata": {},
   "outputs": [],
   "source": []
  },
  {
   "cell_type": "code",
   "execution_count": 19,
   "metadata": {},
   "outputs": [],
   "source": [
    "EPOCHS = 12\n",
    "LEARNING_RATE = 0.0001\n",
    "\n",
    "costs = []\n",
    "params = []\n",
    "preds = []\n",
    "params = np.random.normal(size=(2,))\n",
    "\n",
    "for _ in range(EPOCHS):\n",
    "    predictions = params[0] + params[1] * X\n",
    "    preds.append(predictions)\n",
    "\n",
    "    cost = np.sum(np.square(predictions - Y)) / (2 * len(predictions))\n",
    "    costs.append(cost)\n",
    "    \n",
    "    params[0] -= LEARNING_RATE * np.sum(predictions - Y) / len(predictions)\n",
    "    params[1] -= LEARNING_RATE * np.sum((predictions - Y) * X) / len(predictions)    "
   ]
  },
  {
   "cell_type": "code",
   "execution_count": 20,
   "metadata": {},
   "outputs": [
    {
     "data": {
      "image/png": "[encoded data removed]",
      "text/plain": [
       "<Figure size 576x432 with 1 Axes>"
      ]
     },
     "metadata": {
      "needs_background": "light"
     },
     "output_type": "display_data"
    }
   ],
   "source": [
    "plt.figure(figsize=(8,6))\n",
    "plt.plot(costs)\n",
    "plt.show()"
   ]
  },
  {
   "cell_type": "code",
   "execution_count": 21,
   "metadata": {},
   "outputs": [
    {
     "data": {
      "image/png": "[encoded data removed]",
      "text/plain": [
       "<Figure size 576x432 with 1 Axes>"
      ]
     },
     "metadata": {
      "needs_background": "light"
     },
     "output_type": "display_data"
    }
   ],
   "source": [
    "plt.figure(figsize=(8,6))\n",
    "plt.scatter(X, Y, color='blue')\n",
    "plt.scatter(X, preds[10], color='red')\n",
    "plt.show()"
   ]
  },
  {
   "cell_type": "markdown",
   "metadata": {},
   "source": [
    "# Метод стохастического градиентного спуска"
   ]
  },
  {
   "cell_type": "code",
   "execution_count": 22,
   "metadata": {},
   "outputs": [],
   "source": [
    "EPOCHS = 120\n",
    "LEARNING_RATE = 0.0001\n",
    "\n",
    "costs = []\n",
    "params = []\n",
    "preds = []\n",
    "params = np.random.normal(size=(2,))\n",
    "\n",
    "for _ in range(EPOCHS):\n",
    "    # Для статистики считаем общее предсказание и функцию потерь\n",
    "    predictions = params[0] + params[1] * X\n",
    "    preds.append(predictions)\n",
    "    \n",
    "    cost = np.sum(np.square(predictions - Y)) / (2 * len(predictions))\n",
    "    costs.append(cost)\n",
    "    \n",
    "    i = np.random.choice(len(X))\n",
    "    current_prediction = params[0] + params[1] * X[i]\n",
    "\n",
    "    params[0] -= LEARNING_RATE * (current_prediction - Y[i])\n",
    "    params[1] -= LEARNING_RATE * ((current_prediction - Y[i]) * X[i])"
   ]
  },
  {
   "cell_type": "code",
   "execution_count": 23,
   "metadata": {},
   "outputs": [
    {
     "data": {
      "image/png": "[encoded data removed]",
      "text/plain": [
       "<Figure size 432x288 with 1 Axes>"
      ]
     },
     "metadata": {
      "needs_background": "light"
     },
     "output_type": "display_data"
    }
   ],
   "source": [
    "plt.plot(costs)\n",
    "plt.show()"
   ]
  },
  {
   "cell_type": "code",
   "execution_count": 22,
   "metadata": {},
   "outputs": [
    {
     "data": {
      "image/png": "[encoded data removed]",
      "text/plain": [
       "<Figure size 432x288 with 1 Axes>"
      ]
     },
     "metadata": {
      "needs_background": "light"
     },
     "output_type": "display_data"
    }
   ],
   "source": [
    "plt.scatter(X, Y, color='blue')\n",
    "plt.scatter(X, preds[10], color='red')\n",
    "plt.show()"
   ]
  },
  {
   "cell_type": "markdown",
   "metadata": {},
   "source": [
    "# Метод nesterov momentum"
   ]
  },
  {
   "cell_type": "code",
   "execution_count": null,
   "metadata": {},
   "outputs": [],
   "source": []
  },
  {
   "cell_type": "code",
   "execution_count": null,
   "metadata": {},
   "outputs": [],
   "source": [
    "import numpy as np\n",
    "\n",
    "X = [0.5, 2.5]\n",
    "Y = [0.2, 0.9]\n",
    "\n",
    "def f(w, b, x):\n",
    "\treturn 1.0/(1.0 + np.exp(-(w*x + b)))\n",
    "\n",
    "def error(w, b):\n",
    "\terr = 0.0\n",
    "\tfor x,y in data:\n",
    "\t\tfx = f(w,b,x)\n",
    "\t\terr += 0.5 * (fx - y) ** 2\n",
    "\treturn err\n",
    "\n",
    "def grad_b(w, b, x, y):\n",
    "\tfx = f(w,b,x)\n",
    "\treturn (fx-y) * fx * (1 - fx)\n",
    "\t\n",
    "def grad_w(w, b, x, y):\n",
    "\tfx = f(w,b,x)\n",
    "\treturn (fx-y) * fx * (1 - fx) * x\n",
    "\t\n",
    "def do_gradient_descent():\n",
    "\tw, b, eta, max_epochs = 1, 1, 0.01, 100\n",
    "\tfor i in range(max_epochs):\n",
    "\t\tdw, db = 0, 0\n",
    "\t\tfor x,y in zip(X, Y):\n",
    "\t\t\tdw += grad_w(w, b, x, y)\n",
    "\t\t\tdb += grad_b(w, b, x, y)\n",
    "\t\tw = w - eta * dw\n",
    "\t\tb = b - eta * db\n",
    "\tprint(error(w,b))"
   ]
  },
  {
   "cell_type": "code",
   "execution_count": null,
   "metadata": {},
   "outputs": [],
   "source": [
    "def do_nesterov_accelerated_gradient_descent():\n",
    "    w, b, eta = init_w, init_b, 1.0\n",
    "    prev_v_w, prev_v_b, gamma = 0, 0, 0.9\n",
    "    for i in range(max_epochs):\n",
    "        dw, db = 0, 0\n",
    "        # do partial update\n",
    "        v_w = gamma * prev_v_w\n",
    "        v_b = gamma * prev_v_b \n",
    "        for x,y in zip(X,Y):\n",
    "          # calculate gradients after partial update\n",
    "            dw += grad_w(w - v_w, b - v_b, x, y)\n",
    "            db += grad_b(w - v_w, b - v_b, x, y)\n",
    "        # now do the full update    \n",
    "        v_w = gamma * prev_v_w + eta*dw\n",
    "        v_b = gamma * prev_v_b + eta*db\n",
    "        w = w - v_w\n",
    "        b = b - v-b\n",
    "        prev_v_w = v_w\n",
    "        prev_v_b = v_b"
   ]
  }
 ],
 "metadata": {
  "kernelspec": {
   "display_name": "Python 3",
   "language": "python",
   "name": "python3"
  },
  "language_info": {
   "codemirror_mode": {
    "name": "ipython",
    "version": 3
   },
   "file_extension": ".py",
   "mimetype": "text/x-python",
   "name": "python",
   "nbconvert_exporter": "python",
   "pygments_lexer": "ipython3",
   "version": "3.8.5"
  }
 },
 "nbformat": 4,
 "nbformat_minor": 4
}
